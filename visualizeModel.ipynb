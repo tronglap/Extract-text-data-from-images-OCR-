{
 "cells": [
  {
   "cell_type": "code",
   "execution_count": 1,
   "metadata": {},
   "outputs": [],
   "source": [
    "import torch\n",
    "from torchviz import make_dot\n",
    "from transformers import VisionEncoderDecoderModel, TrOCRProcessor\n",
    "from PIL import Image\n",
    "import requests"
   ]
  },
  {
   "cell_type": "code",
   "execution_count": 2,
   "metadata": {},
   "outputs": [],
   "source": [
    "# Load image\n",
    "url = 'https://www.visualwatermark.com/images/add-text-to-photos/add-text-to-image-3.webp'\n",
    "image = Image.open(requests.get(url, stream=True).raw).convert(\"RGB\")"
   ]
  },
  {
   "cell_type": "code",
   "execution_count": 3,
   "metadata": {},
   "outputs": [
    {
     "name": "stderr",
     "output_type": "stream",
     "text": [
      "Some weights of VisionEncoderDecoderModel were not initialized from the model checkpoint at microsoft/trocr-small-printed and are newly initialized: ['encoder.pooler.dense.bias', 'encoder.pooler.dense.weight']\n",
      "You should probably TRAIN this model on a down-stream task to be able to use it for predictions and inference.\n"
     ]
    }
   ],
   "source": [
    "# Load processor and model\n",
    "processor = TrOCRProcessor.from_pretrained('microsoft/trocr-small-printed')\n",
    "model = VisionEncoderDecoderModel.from_pretrained('microsoft/trocr-small-printed')\n",
    "\n",
    "# Prepare input\n",
    "pixel_values = processor(images=image, return_tensors=\"pt\").pixel_values\n",
    "\n",
    "# Create a dummy input tensor\n",
    "dummy_input = torch.randn(1, 3, 224, 224)\n",
    "\n",
    "# Run the model to get outputs\n",
    "outputs = model.encoder(pixel_values)"
   ]
  },
  {
   "cell_type": "code",
   "execution_count": 4,
   "metadata": {},
   "outputs": [
    {
     "data": {
      "text/plain": [
       "'model_architecture.png'"
      ]
     },
     "execution_count": 4,
     "metadata": {},
     "output_type": "execute_result"
    }
   ],
   "source": [
    "# Generate the visualization\n",
    "dot = make_dot(outputs.last_hidden_state, params=dict(model.named_parameters()))\n",
    "dot.format = 'png'\n",
    "dot.render('model_architecture')"
   ]
  },
  {
   "cell_type": "code",
   "execution_count": 2,
   "metadata": {},
   "outputs": [
    {
     "data": {
      "text/plain": [
       "'vision_encoder_decoder_model.png'"
      ]
     },
     "execution_count": 2,
     "metadata": {},
     "output_type": "execute_result"
    }
   ],
   "source": [
    "from graphviz import Digraph\n",
    "\n",
    "# Tạo đối tượng đồ thị\n",
    "dot = Digraph(comment='VisionEncoderDecoderModel')\n",
    "\n",
    "# Encoder\n",
    "dot.node('E', 'Encoder')\n",
    "dot.node('E1', 'DeiTModel')\n",
    "dot.node('E2', 'DeiTEmbeddings')\n",
    "dot.node('E3', 'DeiTPatchEmbeddings')\n",
    "dot.node('E4', 'Conv2d')\n",
    "dot.node('E5', 'DeiTEncoder')\n",
    "dot.node('E6', 'DeiTLayer x12')\n",
    "dot.node('E7', 'DeiTAttention')\n",
    "dot.node('E8', 'DeiTSelfAttention')\n",
    "dot.node('E9', 'Linear (query/key/value)')\n",
    "dot.node('E10', 'DeiTSelfOutput')\n",
    "dot.node('E11', 'Linear (dense)')\n",
    "dot.node('E12', 'DeiTIntermediate')\n",
    "dot.node('E13', 'GELUActivation')\n",
    "dot.node('E14', 'DeiTOutput')\n",
    "dot.node('E15', 'LayerNorm')\n",
    "dot.node('E16', 'DeiTPooler')\n",
    "dot.node('E17', 'Linear')\n",
    "dot.node('E18', 'Tanh')\n",
    "\n",
    "# Kết nối các node của encoder\n",
    "encoder_edges = [\n",
    "    ('E', 'E1'), ('E1', 'E2'), ('E2', 'E3'), ('E3', 'E4'), ('E4', 'E5'), ('E5', 'E6'),\n",
    "    ('E6', 'E7'), ('E7', 'E8'), ('E8', 'E9'), ('E7', 'E10'), ('E10', 'E11'), ('E5', 'E12'),\n",
    "    ('E12', 'E13'), ('E6', 'E14'), ('E14', 'E11'), ('E6', 'E15'), ('E6', 'E16'), ('E16', 'E17'),\n",
    "    ('E17', 'E18')\n",
    "]\n",
    "dot.edges(encoder_edges)\n",
    "\n",
    "# Decoder\n",
    "dot.node('D', 'Decoder')\n",
    "dot.node('D1', 'TrOCRForCausalLM')\n",
    "dot.node('D2', 'TrOCRDecoderWrapper')\n",
    "dot.node('D3', 'TrOCRDecoder')\n",
    "dot.node('D4', 'TrOCRScaledWordEmbedding')\n",
    "dot.node('D5', 'TrOCRLearnedPositionalEmbedding')\n",
    "dot.node('D6', 'LayerNorm')\n",
    "dot.node('D7', 'TrOCRDecoderLayer x6')\n",
    "dot.node('D8', 'TrOCRAttention')\n",
    "dot.node('D9', 'Linear (k/q/v_proj)')\n",
    "dot.node('D10', 'TrOCRAttention (encoder)')\n",
    "dot.node('D11', 'Linear (k/q_proj)')\n",
    "dot.node('D12', 'Linear (v_proj)')\n",
    "dot.node('D13', 'ReLU')\n",
    "dot.node('D14', 'Linear (fc1)')\n",
    "dot.node('D15', 'Linear (fc2)')\n",
    "dot.node('D16', 'Linear (output)')\n",
    "\n",
    "# Kết nối các node của decoder\n",
    "decoder_edges = [\n",
    "    ('D', 'D1'), ('D1', 'D2'), ('D2', 'D3'), ('D3', 'D4'), ('D3', 'D5'), ('D3', 'D6'),\n",
    "    ('D3', 'D7'), ('D7', 'D8'), ('D8', 'D9'), ('D8', 'D10'), ('D10', 'D11'), ('D10', 'D12'),\n",
    "    ('D10', 'D13'), ('D7', 'D14'), ('D14', 'D15'), ('D7', 'D16')\n",
    "]\n",
    "dot.edges(decoder_edges)\n",
    "\n",
    "# Kết nối giữa encoder và decoder\n",
    "dot.edge('E', 'D')\n",
    "\n",
    "# Lưu và hiển thị đồ thị\n",
    "dot.render('vision_encoder_decoder_model', format='png')"
   ]
  }
 ],
 "metadata": {
  "kernelspec": {
   "display_name": "python38",
   "language": "python",
   "name": "python3"
  },
  "language_info": {
   "codemirror_mode": {
    "name": "ipython",
    "version": 3
   },
   "file_extension": ".py",
   "mimetype": "text/x-python",
   "name": "python",
   "nbconvert_exporter": "python",
   "pygments_lexer": "ipython3",
   "version": "3.8.19"
  }
 },
 "nbformat": 4,
 "nbformat_minor": 2
}
